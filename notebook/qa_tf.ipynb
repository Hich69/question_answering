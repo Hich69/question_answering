{
 "cells": [
  {
   "cell_type": "code",
   "execution_count": 1,
   "metadata": {},
   "outputs": [],
   "source": [
    "import numpy as np\n",
    "import pandas as pd\n",
    "from tqdm import tqdm\n",
    "import json\n",
    "\n",
    "def jsonl_to_df(file_path, n_rows=-1, load_annotations=True, truncate=True, offset=200):\n",
    "    \"\"\"\n",
    "    Simple utility function to load the .jsonl files for the \n",
    "    TF2.0 QA competition. It creates a dataframe of the dataset.\n",
    "    \n",
    "    To use, click \"File\" > \"Add utility script\", search the name of this \n",
    "    notebook, then run:\n",
    "    \n",
    "    >>> from tf_qa_jsonl_to_dataframe import jsonl_to_df\n",
    "    >>> train = jsonl_to_df(\"/kaggle/...train.jsonl\")\n",
    "    >>> test = jsonl_to_df(\"/kaggle/...test.jsonl\", load_annotations=False)\n",
    "    \n",
    "    Parameters:\n",
    "        * file_path (str): The path to your json_file\n",
    "        * n_rows (int): The number of rows you are importing. Set value to -1 if you want to import everything.\n",
    "        * load_annotations (bool): Whether to load annotations (for training data) or not (test set does not have\n",
    "          annotations).\n",
    "        * truncate: Whether to cut the text before the first answer (long or short)\n",
    "          and after the last answer (long or short), leaving a space for the offset\n",
    "        * offset: If offset = k, then keep only keep the interval (answer_start - k, answer_end + k)\n",
    "        \n",
    "    Returns:\n",
    "        A Dataframe containing the following columns:\n",
    "            * document_text (str): The document split by whitespace, possibly truncated\n",
    "            * question_text (str): the question posed\n",
    "            * yes_no_answer (str): Could be \"YES\", \"NO\", or \"NONE\"\n",
    "            * short_answer_start (int): Start index of token, -1 if does not exist\n",
    "            * short_answer_start (int): End index of token, -1 if does not exist\n",
    "            * long_answer_start (int): Start index of token, -1 if does not exist\n",
    "            * long_answer_start (int): End index of token, -1 if does not exist\n",
    "            * example_id (str): ID representing the string.\n",
    "    \n",
    "    Author: @xhlulu\n",
    "    Source: https://www.kaggle.com/xhlulu/tf-qa-jsonl-to-dataframe\n",
    "    \"\"\"\n",
    "    json_lines = []\n",
    "    \n",
    "    with open(file_path) as f:\n",
    "        for i, line in tqdm(enumerate(f)):\n",
    "            if i == n_rows:\n",
    "                break\n",
    "            \n",
    "            line = json.loads(line)\n",
    "            last_token = line['long_answer_candidates'][-1]['end_token']\n",
    "\n",
    "            out_di = {\n",
    "                'document_text': line['document_text'],\n",
    "                'question_text': line['question_text']\n",
    "            }\n",
    "            \n",
    "            if 'example_id' in line:\n",
    "                out_di['example_id'] = line['example_id']\n",
    "            \n",
    "            if load_annotations:\n",
    "                annot = line['annotations'][0]\n",
    "                \n",
    "                out_di['yes_no_answer'] = annot['yes_no_answer']\n",
    "                out_di['long_answer_start'] = annot['long_answer']['start_token']\n",
    "                out_di['long_answer_end'] = annot['long_answer']['end_token']\n",
    "\n",
    "                if len(annot['short_answers']) > 0:\n",
    "                    out_di['short_answer_start'] = annot['short_answers'][0]['start_token']\n",
    "                    out_di['short_answer_end'] = annot['short_answers'][0]['end_token']\n",
    "                else:\n",
    "                    out_di['short_answer_start'] = -1\n",
    "                    out_di['short_answer_end'] = -1\n",
    "\n",
    "                if truncate:\n",
    "                    if out_di['long_answer_start'] == -1:\n",
    "                        start_threshold = out_di['short_answer_start'] - offset\n",
    "                    elif out_di['short_answer_start'] == -1:\n",
    "                        start_threshold = out_di['long_answer_start'] - offset\n",
    "                    else:\n",
    "                        start_threshold = min(out_di['long_answer_start'], out_di['short_answer_start']) - offset\n",
    "                        \n",
    "                    start_threshold = max(0, start_threshold)\n",
    "                    end_threshold = max(out_di['long_answer_end'], out_di['short_answer_end']) + offset + 1\n",
    "                    \n",
    "                    out_di['document_text'] = \" \".join(\n",
    "                        out_di['document_text'].split(' ')[start_threshold:end_threshold]\n",
    "                    )\n",
    "\n",
    "            json_lines.append(out_di)\n",
    "\n",
    "    df = pd.DataFrame(json_lines).fillna(-1)\n",
    "    \n",
    "    return df"
   ]
  },
  {
   "cell_type": "code",
   "execution_count": 2,
   "metadata": {},
   "outputs": [
    {
     "name": "stderr",
     "output_type": "stream",
     "text": [
      "4915it [00:06, 795.50it/s]\n"
     ]
    }
   ],
   "source": [
    "train = jsonl_to_df('C:/Users/HAZRAK/Downloads/simplified-nq-train.jsonl', n_rows=5000)"
   ]
  },
  {
   "cell_type": "code",
   "execution_count": 3,
   "metadata": {},
   "outputs": [
    {
     "data": {
      "text/plain": [
       "'Rican Senate At - Large </Th> </Tr> <Tr> <Td_colspan=\"2\"> In office January 2 , 2009 -- January 1 , 2013 </Td> </Tr> <Tr> <Th_colspan=\"2\"> Puerto Rico Secretary of Consumer Affairs </Th> </Tr> <Tr> <Td_colspan=\"2\"> In office January 2 , 2005 -- January 1 , 2009 </Td> </Tr> <Tr> <Th> Governor </Th> <Td> Aníbal Acevedo Vilá </Td> </Tr> <Tr> <Th> Preceded by </Th> <Td> ? ? ? </Td> </Tr> <Tr> <Th> Succeeded by </Th> <Td> Luis Rivera Marín </Td> </Tr> <Tr> <Td_colspan=\"2\"> </Td> </Tr> <Tr> <Th_colspan=\"2\"> Personal details </Th> </Tr> <Tr> <Th> </Th> <Td> Alejandro Javier García Padilla ( 1971 - 08 - 03 ) August 3 , 1971 ( age 46 ) Coamo , Puerto Rico , U.S. </Td> </Tr> <Tr> <Th> Political party </Th> <Td> Popular Democratic Party </Td> </Tr> <Tr> <Th> Other political affiliations </Th> <Td> Democratic </Td> </Tr> <Tr> <Th> Spouse ( s ) </Th> <Td> Wilma Pastrana ( 2001 -- present ) </Td> </Tr> <Tr> <Th> Children </Th> <Td> </Td> </Tr> <Tr> <Th> Education </Th> <Td> University of Puerto Rico , Río Piedras ( BA ) Interamerican University of Puerto Rico ( JD ) </Td> </Tr> <Tr> <Th> Website </Th> <Td> Government website </Td> </Tr> </Table> <P> Alejandro Javier García Padilla ( Spanish : ( aleˈxandɾo ɣarˈsi. a ) ; born August 3 , 1971 ) is a Puerto Rican politician and attorney who served as the 11th Governor of Puerto Rico from 2013 to 2017 . Prior to this position , García Padilla held various roles in the political landscape of Puerto Rico ; first as Secretary of Consumer Affairs , and then as a member of the 24th Senate of Puerto Rico and as president of the Popular Democratic Party . Locally , he is a staunch advocate for maintaining the current political status of Puerto Rico as that of an unincorporated territory of the United States with self - government , while at the national level he is allied with the Democratic Party . </P> <P> As governor , García Padilla shared his legislative powers with the 25th Senate and 29th House of Representatives , both controlled by his party . Regardless of this , he was not able to persuade several members of his own party to support his proposals . This failure , in addition to his low popularity , ultimately led him to not seek re-election thus becoming the second governor in Puerto Rican history to not do so after his first term . </P> <P> </P> <H2> Contents </H2> ( hide ) <Ul> <Li> 1 Early years </Li> <Li> 2 Professional life </Li> <Li> 3 Political career <Ul> <Li> 3.1 Gubernatorial campaign </Li> <Li> 3.2 2012 elections </Li> <Li> 3.3 Transition </Li> </Ul> </Li> <Li> 4 Governorship <Ul> <Li> 4.1 Inauguration </Li> <Li> 4.2 First days </Li> <Li> 4.3 Domestic policies </Li> <Li> 4.4 Foreign policies </Li> </Ul> </Li> <Li> 5 Public image and perception </Li> <Li> 6 Personal life </Li> <Li> 7 Ancestry </Li> <Li> 8 Notes </Li> <Li> 9 References </Li> </Ul> <P> </P> <H2> Early years </H2> <P> García Padilla was born on 3 August 1971 in Coamo , Puerto Rico to Luis Gerardo García Sánchez ( 1927 -'"
      ]
     },
     "execution_count": 3,
     "metadata": {},
     "output_type": "execute_result"
    }
   ],
   "source": [
    "train.document_text[123]"
   ]
  },
  {
   "cell_type": "code",
   "execution_count": null,
   "metadata": {},
   "outputs": [],
   "source": []
  }
 ],
 "metadata": {
  "kernelspec": {
   "display_name": "Python 3",
   "language": "python",
   "name": "python3"
  },
  "language_info": {
   "codemirror_mode": {
    "name": "ipython",
    "version": 3
   },
   "file_extension": ".py",
   "mimetype": "text/x-python",
   "name": "python",
   "nbconvert_exporter": "python",
   "pygments_lexer": "ipython3",
   "version": "3.7.0"
  }
 },
 "nbformat": 4,
 "nbformat_minor": 2
}
